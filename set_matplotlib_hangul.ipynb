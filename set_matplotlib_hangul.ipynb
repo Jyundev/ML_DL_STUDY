{
 "cells": [
  {
   "cell_type": "code",
   "execution_count": 4,
   "metadata": {},
   "outputs": [
    {
     "name": "stdout",
     "output_type": "stream",
     "text": [
      "Writing ./set_matplotlib_hangul.py\n"
     ]
    }
   ],
   "source": [
    "%%writefile ./set_matplotlib_hangul.py\n",
    "\n",
    "import matplotlib.pyplot as plt\n",
    "from matplotlib import font_manager, rc\n",
    "import seaborn as sns\n",
    "import platform\n",
    "\n",
    "# %matplotlib inline\n",
    "get_ipython().run_line_magic(\"matplotlib\",\"inline\")\n",
    "\n",
    "path='C:/Windows/Fonts/malgun.ttf'\n",
    "plt.rcParams['axes.unicode_minus'] = False\n",
    "\n",
    "if platform.system()==\"Darwin\": #mac\n",
    "    rc(\"font\",family='Arial Unicodes MS')\n",
    "    sns.set(font='Arial Unicodes MS', \n",
    "        rc={\"axes.unicode_minus\":False}),\n",
    "    print('MAC Hangul OK')\n",
    "elif platform.system()==\"Windows\":  #window\n",
    "    font_name=font_manager.FontProperties(fname=path).get_name()\n",
    "    rc(\"font\",family=font_name)\n",
    "    sns.set(font=font_name, \n",
    "    rc={\"axes.unicode_minus\":False})\n",
    "    print('WIndow Hangul OK')\n",
    "    \n",
    "else:\n",
    "    print('Unknown System')\n",
    "    \n"
   ]
  },
  {
   "cell_type": "code",
   "execution_count": null,
   "id": "bb9821cd",
   "metadata": {},
   "outputs": [],
   "source": []
  }
 ],
 "metadata": {
  "kernelspec": {
   "display_name": "ds_study",
   "language": "python",
   "name": "python3"
  },
  "language_info": {
   "codemirror_mode": {
    "name": "ipython",
    "version": 3
   },
   "file_extension": ".py",
   "mimetype": "text/x-python",
   "name": "python",
   "nbconvert_exporter": "python",
   "pygments_lexer": "ipython3",
   "version": "3.8.16"
  }
 },
 "nbformat": 4,
 "nbformat_minor": 5
}
