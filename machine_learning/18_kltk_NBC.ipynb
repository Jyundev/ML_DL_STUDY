{
 "cells": [
  {
   "cell_type": "markdown",
   "metadata": {},
   "source": [
    "### Naive Bayes Classifier\n",
    "나이브 베이즈 분류기(Naive Bayes Classifier)는 베이즈 정리를 기반으로 하는 확률적 분류 알고리즘입니다. \n",
    "\n",
    "주어진 데이터를 특성들의 조건부 확률을 계산하여 각 클래스에 속할 확률을 추정하고, 추정된 확률을 기반으로 데이터를 분류합니다. \n",
    "\n",
    "\"나이브\"라는 이름은 특성들이 독립적이라는 가정을 하기 때문에 붙여진 것입니다.\n"
   ]
  },
  {
   "cell_type": "markdown",
   "metadata": {},
   "source": [
    "### 감성분석 - 영어"
   ]
  },
  {
   "cell_type": "code",
   "execution_count": 1,
   "metadata": {},
   "outputs": [],
   "source": [
    "from nltk.tokenize import word_tokenize\n",
    "import nltk"
   ]
  },
  {
   "cell_type": "code",
   "execution_count": 2,
   "metadata": {},
   "outputs": [],
   "source": [
    "train = [\n",
    "    ('i like you', 'pos'),\n",
    "    ('i hate you', 'neg'),\n",
    "    ('you like me', 'neg'),\n",
    "    ('i like him','pos')\n",
    "]"
   ]
  },
  {
   "cell_type": "code",
   "execution_count": 4,
   "metadata": {},
   "outputs": [
    {
     "data": {
      "text/plain": [
       "{'hate', 'him', 'i', 'like', 'me', 'you'}"
      ]
     },
     "execution_count": 4,
     "metadata": {},
     "output_type": "execute_result"
    }
   ],
   "source": [
    "all_words = set(\n",
    "    word.lower() for sentence in train for word in word_tokenize(sentence[0])\n",
    ")\n",
    "\n",
    "all_words"
   ]
  },
  {
   "cell_type": "code",
   "execution_count": 8,
   "metadata": {},
   "outputs": [
    {
     "data": {
      "text/plain": [
       "[({'him': False,\n",
       "   'you': True,\n",
       "   'i': True,\n",
       "   'hate': False,\n",
       "   'like': True,\n",
       "   'me': False},\n",
       "  'pos'),\n",
       " ({'him': False,\n",
       "   'you': True,\n",
       "   'i': True,\n",
       "   'hate': True,\n",
       "   'like': False,\n",
       "   'me': False},\n",
       "  'neg'),\n",
       " ({'him': False,\n",
       "   'you': True,\n",
       "   'i': False,\n",
       "   'hate': False,\n",
       "   'like': True,\n",
       "   'me': True},\n",
       "  'neg'),\n",
       " ({'him': True,\n",
       "   'you': False,\n",
       "   'i': True,\n",
       "   'hate': False,\n",
       "   'like': True,\n",
       "   'me': False},\n",
       "  'pos')]"
      ]
     },
     "execution_count": 8,
     "metadata": {},
     "output_type": "execute_result"
    }
   ],
   "source": [
    "t = [({word : (word in word_tokenize(x[0])) for word in all_words}, x[1]) for x in train]\n",
    "t"
   ]
  },
  {
   "cell_type": "code",
   "execution_count": 10,
   "metadata": {},
   "outputs": [
    {
     "name": "stdout",
     "output_type": "stream",
     "text": [
      "Most Informative Features\n",
      "                    hate = False             pos : neg    =      1.7 : 1.0\n",
      "                     him = False             neg : pos    =      1.7 : 1.0\n",
      "                       i = True              pos : neg    =      1.7 : 1.0\n",
      "                    like = True              pos : neg    =      1.7 : 1.0\n",
      "                      me = False             pos : neg    =      1.7 : 1.0\n",
      "                     you = True              neg : pos    =      1.7 : 1.0\n"
     ]
    }
   ],
   "source": [
    "classifier = nltk.NaiveBayesClassifier.train(t)\n",
    "classifier.show_most_informative_features()"
   ]
  },
  {
   "cell_type": "code",
   "execution_count": 11,
   "metadata": {},
   "outputs": [
    {
     "data": {
      "text/plain": [
       "{'him': False,\n",
       " 'you': False,\n",
       " 'i': True,\n",
       " 'hate': False,\n",
       " 'like': True,\n",
       " 'me': False}"
      ]
     },
     "execution_count": 11,
     "metadata": {},
     "output_type": "execute_result"
    }
   ],
   "source": [
    "test_sentence = 'i like pet'\n",
    "test_sentence_features = {\n",
    "    word.lower() :( word in word_tokenize(test_sentence.lower())) for word in all_words\n",
    "}\n",
    "\n",
    "test_sentence_features"
   ]
  },
  {
   "cell_type": "code",
   "execution_count": 12,
   "metadata": {},
   "outputs": [
    {
     "data": {
      "text/plain": [
       "'pos'"
      ]
     },
     "execution_count": 12,
     "metadata": {},
     "output_type": "execute_result"
    }
   ],
   "source": [
    "classifier.classify(test_sentence_features)"
   ]
  },
  {
   "cell_type": "markdown",
   "metadata": {},
   "source": [
    "### 감성분석 - 한글 "
   ]
  },
  {
   "cell_type": "code",
   "execution_count": 13,
   "metadata": {},
   "outputs": [],
   "source": [
    "from konlpy.tag import Okt\n",
    "\n",
    "post_tagger = Okt()"
   ]
  },
  {
   "cell_type": "code",
   "execution_count": 35,
   "metadata": {},
   "outputs": [],
   "source": [
    "train = [\n",
    "    (\"메리가 좋아\",'pos'),\n",
    "    (\"고양이가 좋아\",'pos'),\n",
    "    (\"머신러닝은 어려워\",'neg'),\n",
    "    (\"메리는 귀염둥이 고양이야\",'pos'),\n",
    "    (\"나는 공부 끝내고 메리랑 놀래\",'pos'),\n",
    "\n",
    "]"
   ]
  },
  {
   "cell_type": "code",
   "execution_count": 36,
   "metadata": {},
   "outputs": [
    {
     "data": {
      "text/plain": [
       "{'고양이가',\n",
       " '고양이야',\n",
       " '공부',\n",
       " '귀염둥이',\n",
       " '끝내고',\n",
       " '나는',\n",
       " '놀래',\n",
       " '머신러닝은',\n",
       " '메리가',\n",
       " '메리는',\n",
       " '메리랑',\n",
       " '어려워',\n",
       " '좋아'}"
      ]
     },
     "execution_count": 36,
     "metadata": {},
     "output_type": "execute_result"
    }
   ],
   "source": [
    "all_words = set(\n",
    "    word for sentence in train for word in word_tokenize(sentence[0])\n",
    ")\n",
    "\n",
    "all_words"
   ]
  },
  {
   "cell_type": "code",
   "execution_count": 37,
   "metadata": {},
   "outputs": [
    {
     "data": {
      "text/plain": [
       "[({'놀래': False,\n",
       "   '메리가': True,\n",
       "   '좋아': True,\n",
       "   '어려워': False,\n",
       "   '메리는': False,\n",
       "   '고양이야': False,\n",
       "   '메리랑': False,\n",
       "   '머신러닝은': False,\n",
       "   '공부': False,\n",
       "   '고양이가': False,\n",
       "   '나는': False,\n",
       "   '끝내고': False,\n",
       "   '귀염둥이': False},\n",
       "  'pos'),\n",
       " ({'놀래': False,\n",
       "   '메리가': False,\n",
       "   '좋아': True,\n",
       "   '어려워': False,\n",
       "   '메리는': False,\n",
       "   '고양이야': False,\n",
       "   '메리랑': False,\n",
       "   '머신러닝은': False,\n",
       "   '공부': False,\n",
       "   '고양이가': True,\n",
       "   '나는': False,\n",
       "   '끝내고': False,\n",
       "   '귀염둥이': False},\n",
       "  'pos'),\n",
       " ({'놀래': False,\n",
       "   '메리가': False,\n",
       "   '좋아': False,\n",
       "   '어려워': True,\n",
       "   '메리는': False,\n",
       "   '고양이야': False,\n",
       "   '메리랑': False,\n",
       "   '머신러닝은': True,\n",
       "   '공부': False,\n",
       "   '고양이가': False,\n",
       "   '나는': False,\n",
       "   '끝내고': False,\n",
       "   '귀염둥이': False},\n",
       "  'neg'),\n",
       " ({'놀래': False,\n",
       "   '메리가': False,\n",
       "   '좋아': False,\n",
       "   '어려워': False,\n",
       "   '메리는': True,\n",
       "   '고양이야': True,\n",
       "   '메리랑': False,\n",
       "   '머신러닝은': False,\n",
       "   '공부': False,\n",
       "   '고양이가': False,\n",
       "   '나는': False,\n",
       "   '끝내고': False,\n",
       "   '귀염둥이': True},\n",
       "  'pos'),\n",
       " ({'놀래': True,\n",
       "   '메리가': False,\n",
       "   '좋아': False,\n",
       "   '어려워': False,\n",
       "   '메리는': False,\n",
       "   '고양이야': False,\n",
       "   '메리랑': True,\n",
       "   '머신러닝은': False,\n",
       "   '공부': True,\n",
       "   '고양이가': False,\n",
       "   '나는': True,\n",
       "   '끝내고': True,\n",
       "   '귀염둥이': False},\n",
       "  'pos')]"
      ]
     },
     "execution_count": 37,
     "metadata": {},
     "output_type": "execute_result"
    }
   ],
   "source": [
    "t = [({word : (word in word_tokenize(x[0])) for word in all_words}, x[1]) for x in train]\n",
    "t"
   ]
  },
  {
   "cell_type": "code",
   "execution_count": 38,
   "metadata": {},
   "outputs": [
    {
     "name": "stdout",
     "output_type": "stream",
     "text": [
      "Most Informative Features\n",
      "                      좋아 = False             neg : pos    =      1.5 : 1.0\n",
      "                    고양이가 = False             neg : pos    =      1.1 : 1.0\n",
      "                    고양이야 = False             neg : pos    =      1.1 : 1.0\n",
      "                      공부 = False             neg : pos    =      1.1 : 1.0\n",
      "                    귀염둥이 = False             neg : pos    =      1.1 : 1.0\n",
      "                     끝내고 = False             neg : pos    =      1.1 : 1.0\n",
      "                      나는 = False             neg : pos    =      1.1 : 1.0\n",
      "                      놀래 = False             neg : pos    =      1.1 : 1.0\n",
      "                     메리가 = False             neg : pos    =      1.1 : 1.0\n",
      "                     메리는 = False             neg : pos    =      1.1 : 1.0\n"
     ]
    }
   ],
   "source": [
    "classifier = nltk.NaiveBayesClassifier.train(t)\n",
    "classifier.show_most_informative_features()"
   ]
  },
  {
   "cell_type": "code",
   "execution_count": 39,
   "metadata": {},
   "outputs": [
    {
     "data": {
      "text/plain": [
       "{'놀래': False,\n",
       " '메리가': False,\n",
       " '좋아': False,\n",
       " '어려워': False,\n",
       " '메리는': False,\n",
       " '고양이야': False,\n",
       " '메리랑': True,\n",
       " '머신러닝은': False,\n",
       " '공부': False,\n",
       " '고양이가': False,\n",
       " '나는': False,\n",
       " '끝내고': False,\n",
       " '귀염둥이': False}"
      ]
     },
     "execution_count": 39,
     "metadata": {},
     "output_type": "execute_result"
    }
   ],
   "source": [
    "test_sentence = '난 머신러닝 마치면 메리랑 놀거야'\n",
    "test_sentence_features = {\n",
    "    word.lower() :( word in word_tokenize(test_sentence.lower())) for word in all_words\n",
    "}\n",
    "\n",
    "test_sentence_features"
   ]
  },
  {
   "cell_type": "code",
   "execution_count": 40,
   "metadata": {},
   "outputs": [
    {
     "data": {
      "text/plain": [
       "'pos'"
      ]
     },
     "execution_count": 40,
     "metadata": {},
     "output_type": "execute_result"
    }
   ],
   "source": [
    "classifier.classify(test_sentence_features)"
   ]
  },
  {
   "cell_type": "code",
   "execution_count": 41,
   "metadata": {},
   "outputs": [],
   "source": [
    "# 형태소 나누기 \n",
    "def tokenize(doc):\n",
    "    return ['/'.join(t) for t in post_tagger.pos(doc, norm=True, stem=True)] #stem : 어간추출 여부 -> ran, runs,running => run으로 통일 "
   ]
  },
  {
   "cell_type": "code",
   "execution_count": 42,
   "metadata": {},
   "outputs": [
    {
     "data": {
      "text/plain": [
       "[(['메리/Noun', '가/Josa', '좋다/Adjective'], 'pos'),\n",
       " (['고양이/Noun', '가/Josa', '좋다/Adjective'], 'pos'),\n",
       " (['머신/Noun', '러닝/Noun', '은/Josa', '어렵다/Adjective'], 'neg'),\n",
       " (['메리/Noun', '는/Josa', '귀염둥이/Noun', '고양이/Noun', '야/Josa'], 'pos'),\n",
       " (['나/Noun',\n",
       "   '는/Josa',\n",
       "   '공부/Noun',\n",
       "   '끝내다/Verb',\n",
       "   '메리/Noun',\n",
       "   '랑/Josa',\n",
       "   '놀래다/Adjective'],\n",
       "  'pos')]"
      ]
     },
     "execution_count": 42,
     "metadata": {},
     "output_type": "execute_result"
    }
   ],
   "source": [
    "train_docs = [(tokenize(row[0]), row[1]) for row in train]\n",
    "train_docs"
   ]
  },
  {
   "cell_type": "code",
   "execution_count": 43,
   "metadata": {},
   "outputs": [
    {
     "data": {
      "text/plain": [
       "['메리/Noun',\n",
       " '가/Josa',\n",
       " '좋다/Adjective',\n",
       " '고양이/Noun',\n",
       " '가/Josa',\n",
       " '좋다/Adjective',\n",
       " '머신/Noun',\n",
       " '러닝/Noun',\n",
       " '은/Josa',\n",
       " '어렵다/Adjective',\n",
       " '메리/Noun',\n",
       " '는/Josa',\n",
       " '귀염둥이/Noun',\n",
       " '고양이/Noun',\n",
       " '야/Josa',\n",
       " '나/Noun',\n",
       " '는/Josa',\n",
       " '공부/Noun',\n",
       " '끝내다/Verb',\n",
       " '메리/Noun',\n",
       " '랑/Josa',\n",
       " '놀래다/Adjective']"
      ]
     },
     "execution_count": 43,
     "metadata": {},
     "output_type": "execute_result"
    }
   ],
   "source": [
    "tokens = [t for d in train_docs for t in d[0]]\n",
    "tokens"
   ]
  },
  {
   "cell_type": "code",
   "execution_count": 44,
   "metadata": {},
   "outputs": [],
   "source": [
    "def term_exists(doc):\n",
    "    return {word: (word in set(doc)) for word in tokens}"
   ]
  },
  {
   "cell_type": "code",
   "execution_count": 45,
   "metadata": {},
   "outputs": [
    {
     "data": {
      "text/plain": [
       "[({'메리/Noun': True,\n",
       "   '가/Josa': True,\n",
       "   '좋다/Adjective': True,\n",
       "   '고양이/Noun': False,\n",
       "   '머신/Noun': False,\n",
       "   '러닝/Noun': False,\n",
       "   '은/Josa': False,\n",
       "   '어렵다/Adjective': False,\n",
       "   '는/Josa': False,\n",
       "   '귀염둥이/Noun': False,\n",
       "   '야/Josa': False,\n",
       "   '나/Noun': False,\n",
       "   '공부/Noun': False,\n",
       "   '끝내다/Verb': False,\n",
       "   '랑/Josa': False,\n",
       "   '놀래다/Adjective': False},\n",
       "  'pos'),\n",
       " ({'메리/Noun': False,\n",
       "   '가/Josa': True,\n",
       "   '좋다/Adjective': True,\n",
       "   '고양이/Noun': True,\n",
       "   '머신/Noun': False,\n",
       "   '러닝/Noun': False,\n",
       "   '은/Josa': False,\n",
       "   '어렵다/Adjective': False,\n",
       "   '는/Josa': False,\n",
       "   '귀염둥이/Noun': False,\n",
       "   '야/Josa': False,\n",
       "   '나/Noun': False,\n",
       "   '공부/Noun': False,\n",
       "   '끝내다/Verb': False,\n",
       "   '랑/Josa': False,\n",
       "   '놀래다/Adjective': False},\n",
       "  'pos'),\n",
       " ({'메리/Noun': False,\n",
       "   '가/Josa': False,\n",
       "   '좋다/Adjective': False,\n",
       "   '고양이/Noun': False,\n",
       "   '머신/Noun': True,\n",
       "   '러닝/Noun': True,\n",
       "   '은/Josa': True,\n",
       "   '어렵다/Adjective': True,\n",
       "   '는/Josa': False,\n",
       "   '귀염둥이/Noun': False,\n",
       "   '야/Josa': False,\n",
       "   '나/Noun': False,\n",
       "   '공부/Noun': False,\n",
       "   '끝내다/Verb': False,\n",
       "   '랑/Josa': False,\n",
       "   '놀래다/Adjective': False},\n",
       "  'neg'),\n",
       " ({'메리/Noun': True,\n",
       "   '가/Josa': False,\n",
       "   '좋다/Adjective': False,\n",
       "   '고양이/Noun': True,\n",
       "   '머신/Noun': False,\n",
       "   '러닝/Noun': False,\n",
       "   '은/Josa': False,\n",
       "   '어렵다/Adjective': False,\n",
       "   '는/Josa': True,\n",
       "   '귀염둥이/Noun': True,\n",
       "   '야/Josa': True,\n",
       "   '나/Noun': False,\n",
       "   '공부/Noun': False,\n",
       "   '끝내다/Verb': False,\n",
       "   '랑/Josa': False,\n",
       "   '놀래다/Adjective': False},\n",
       "  'pos'),\n",
       " ({'메리/Noun': True,\n",
       "   '가/Josa': False,\n",
       "   '좋다/Adjective': False,\n",
       "   '고양이/Noun': False,\n",
       "   '머신/Noun': False,\n",
       "   '러닝/Noun': False,\n",
       "   '은/Josa': False,\n",
       "   '어렵다/Adjective': False,\n",
       "   '는/Josa': True,\n",
       "   '귀염둥이/Noun': False,\n",
       "   '야/Josa': False,\n",
       "   '나/Noun': True,\n",
       "   '공부/Noun': True,\n",
       "   '끝내다/Verb': True,\n",
       "   '랑/Josa': True,\n",
       "   '놀래다/Adjective': True},\n",
       "  'pos')]"
      ]
     },
     "execution_count": 45,
     "metadata": {},
     "output_type": "execute_result"
    }
   ],
   "source": [
    "train_xy = [(term_exists(d),c) for d, c in train_docs]\n",
    "train_xy"
   ]
  },
  {
   "cell_type": "code",
   "execution_count": 46,
   "metadata": {},
   "outputs": [
    {
     "name": "stdout",
     "output_type": "stream",
     "text": [
      "Most Informative Features\n",
      "                 메리/Noun = False             neg : pos    =      2.5 : 1.0\n",
      "                  가/Josa = False             neg : pos    =      1.5 : 1.0\n",
      "                고양이/Noun = False             neg : pos    =      1.5 : 1.0\n",
      "                  는/Josa = False             neg : pos    =      1.5 : 1.0\n",
      "            좋다/Adjective = False             neg : pos    =      1.5 : 1.0\n",
      "                 공부/Noun = False             neg : pos    =      1.1 : 1.0\n",
      "               귀염둥이/Noun = False             neg : pos    =      1.1 : 1.0\n",
      "                끝내다/Verb = False             neg : pos    =      1.1 : 1.0\n",
      "                  나/Noun = False             neg : pos    =      1.1 : 1.0\n",
      "           놀래다/Adjective = False             neg : pos    =      1.1 : 1.0\n"
     ]
    }
   ],
   "source": [
    "classifier = nltk.NaiveBayesClassifier.train(train_xy)\n",
    "classifier.show_most_informative_features()"
   ]
  },
  {
   "cell_type": "code",
   "execution_count": 47,
   "metadata": {},
   "outputs": [
    {
     "data": {
      "text/plain": [
       "[('난', 'Noun'),\n",
       " ('머신', 'Noun'),\n",
       " ('러닝', 'Noun'),\n",
       " ('마치', 'Noun'),\n",
       " ('면', 'Josa'),\n",
       " ('메리', 'Noun'),\n",
       " ('랑', 'Josa'),\n",
       " ('놀거야', 'Verb')]"
      ]
     },
     "execution_count": 47,
     "metadata": {},
     "output_type": "execute_result"
    }
   ],
   "source": [
    "test_sentence = [('난 머신러닝 마치면 메리랑 놀거야')]\n",
    "\n",
    "test_docs = post_tagger.pos(test_sentence[0])\n",
    "test_docs"
   ]
  },
  {
   "cell_type": "code",
   "execution_count": 48,
   "metadata": {},
   "outputs": [
    {
     "data": {
      "text/plain": [
       "{('난', 'Noun'): False,\n",
       " ('머신', 'Noun'): False,\n",
       " ('러닝', 'Noun'): False,\n",
       " ('마치', 'Noun'): False,\n",
       " ('면', 'Josa'): False,\n",
       " ('메리', 'Noun'): False,\n",
       " ('랑', 'Josa'): False,\n",
       " ('놀거야', 'Verb'): False}"
      ]
     },
     "execution_count": 48,
     "metadata": {},
     "output_type": "execute_result"
    }
   ],
   "source": [
    "test_sentence_features = {word: (word in tokens) for word in test_docs}\n",
    "test_sentence_features"
   ]
  },
  {
   "cell_type": "code",
   "execution_count": 49,
   "metadata": {},
   "outputs": [
    {
     "data": {
      "text/plain": [
       "'pos'"
      ]
     },
     "execution_count": 49,
     "metadata": {},
     "output_type": "execute_result"
    }
   ],
   "source": [
    "classifier.classify(test_sentence_features)"
   ]
  }
 ],
 "metadata": {
  "kernelspec": {
   "display_name": "ds_study",
   "language": "python",
   "name": "python3"
  },
  "language_info": {
   "codemirror_mode": {
    "name": "ipython",
    "version": 3
   },
   "file_extension": ".py",
   "mimetype": "text/x-python",
   "name": "python",
   "nbconvert_exporter": "python",
   "pygments_lexer": "ipython3",
   "version": "3.8.16"
  },
  "orig_nbformat": 4
 },
 "nbformat": 4,
 "nbformat_minor": 2
}
