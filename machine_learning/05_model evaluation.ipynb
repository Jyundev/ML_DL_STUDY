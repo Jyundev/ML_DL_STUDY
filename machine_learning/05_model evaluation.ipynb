{
 "cells": [
  {
   "cell_type": "markdown",
   "metadata": {},
   "source": [
    "### 모델 평가"
   ]
  },
  {
   "attachments": {},
   "cell_type": "markdown",
   "metadata": {},
   "source": [
    "모델 평가는 머신러닝 또는 통계 모델의 성능을 평가하고 비교하는 과정을 말합니다. <br>\n",
    "<br>\n",
    "<b>혼동 행렬 (Confusion Matrix): </b>\n",
    "\n",
    "<br>\n",
    "이진 분류 모델의 성능을 평가하는데 주로 사용됩니다. <br>\n",
    "실제 클래스와 예측 클래스를 기반으로 참 양성, 참 음성, 거짓 양성, 거짓 음성의 개수를 계산하여 모델의 예측 결과를 시각화합니다.<br>\n",
    "TP (True Positive), TN (True Negative), FP (False Positive), FN (False Negative)과 같은 용어를 사용하여 표현<br>\n",
    "True Positive (TP): 모델이 양성 클래스로 예측하고, 실제로 양성인 샘플의 수입니다.<br>\n",
    "True Negative (TN): 모델이 음성 클래스로 예측하고, 실제로 음성인 샘플의 수입니다.<br>\n",
    "False Positive (FP): 모델이 양성 클래스로 잘못 예측하고, 실제로는 음성인 샘플의 수입니다.<br>\n",
    "False Negative (FN): 모델이 음성 클래스로 잘못 예측하고, 실제로는 양성인 샘플의 수입니다.<br>\n",
    "다양한 평가 지표들은 이 TP, TN, FP, FN의 값을 기반으로 계산됩니다. <br>\n",
    "\n",
    " <b>정확도 (Accuracy) :  전체 데이터 중에서 올바르게 예측한 데이터의 비율 - <span style=\"color: red;\">(TP + TN) / (TP + TN + FP + FN)</span></b>\n",
    " - 클래스 불균형이 있는 경우(예: 양성과 음성 클래스의 비율이 다른 경우) 정확도만으로 모델의 성능을 평가하기에는 부족할 수 있습니다.\n",
    " <br>\n",
    "\n",
    " <b>정밀도 (Precision): 양성이라고 예측한 것 중에서 실제로 양성인 데이터의 비율 - <span style=\"color: red;\">TP / (TP + FP) </span></b>\n",
    " - 이는 거짓 양성(FP)을 최소화하고 신뢰할 수 있는 양성 예측을 할 때 중요한 지표입니다. \n",
    " - 예를 들어, 암 진단 모델에서는 거짓 양성을 피하기 위해 정밀도가 중요합니다. , 실제 음성인 데이터를 양성이라고 판단하면 안되는 경우 : threhold 0.8 or 0.9 설정\n",
    " <br>\n",
    "\n",
    " <b>재현율 (Recall) :  실제 양성인 데이터 중에서 양성이라고 예측한 데이터의 비율  - <span style=\"color: red;\">TP / (TP + FN)</span></b> \n",
    " - 이는 거짓 음성(FN)을 최소화하고 실제 양성을 놓치지 않는 것을 목표로 할 때 중요한 지표입니다. \n",
    " - 예를 들어, 암 진단 모델에서는 거짓 음성을 피하기 위해 재현율이 중요합니다. 실제 양성인 데이터를 음성이라고 판단하면 안되는 경우 : threshold 0.3 or 0.4  설정 \n",
    "\n",
    "  <br>\n",
    " \n",
    " <b> FALL-OUT : 실제로 양성이 아닌데 양성으로 잘못 예측한 데이터의 비율  -<span style=\"color: red;\"> FP / (FP + TN) </span></b>\n",
    " - 이는 거짓 양성을 최소화하는 데 도움이 되는 지표입니다. \n",
    " - 예를 들어, 스팸 메일 필터링 모델에서는 거짓 양성을 피하기 위해 FALL-OUT을 낮추는 것이 중요합니다.\n",
    " <br>\n",
    "\n",
    "\n",
    " <img src = 'https://miro.medium.com/v2/resize:fit:828/format:webp/1*pOtBHai4jFd-ujaNXPilRg.png'>"
   ]
  },
  {
   "attachments": {},
   "cell_type": "markdown",
   "metadata": {},
   "source": [
    "-----\n",
    "###  임계값 (Threshold)\n",
    "\n",
    "Threshold(임계값)은 이진 분류 모델에서 예측 결과를 결정하는 기준값을 의미합니다. <p>\n",
    "모델의 출력 확률이나 예측값이 임계값을 넘으면 positive(양성)로 분류되고, 임계값보다 작으면 negative(음성)로 분류됩니다.<p>\n",
    "<p>\n",
    "일반적으로 기본 임계값은 0.5입니다. <p>\n",
    "즉, 모델이 0.5 이상의 확률을 가지면 positive로 분류하고, 0.5 미만의 확률을 가지면 negative로 분류합니다. <p>\n",
    "<p>\n",
    "임계값의 조정은 모델의 성능과 목표에 따라 달라집니다. <p>\n",
    "임계값을 높게 설정하면 FP (False Positive)가 줄어들어 정밀도가 증가할 수 있지만, FN (False Negative)이 증가하여 재현율이 감소할 수 있습니다. <p>\n",
    "임계값을 낮게 설정하면 반대의 현상이 발생합니다.<p>"
   ]
  },
  {
   "attachments": {},
   "cell_type": "markdown",
   "metadata": {},
   "source": [
    "-----\n",
    "\n",
    "### F1-Score\n",
    "모델의 정밀도 (Precision)와 재현율 (Recall)을 조화 평균으로 결합한 지표입니다. 이진 분류 모델의 성능을 평가하는 데에 주로 사용됩니다.<br>\n",
    "\n",
    "F1 스코어는 다음과 같은 공식으로 계산됩니다<br>\n",
    "\n",
    "F1 = 2 * (정밀도 * 재현율) / (정밀도 + 재현율)\n",
    "\n",
    "F1 스코어는 정밀도와 재현율 사이의 균형을 나타내는 지표로, 불균형한 클래스 분포에서 모델의 평가를 할 때 유용합니다. <p>\n",
    "예를 들어, 양성 클래스가 매우 적은 경우 정밀도가 매우 높지만 재현율이 낮아질 수 있습니다.<p>\n",
    "이런 경우 F1 스코어는 정밀도와 재현율의 조화 평균으로 계산되므로 모델의 전반적인 성능을 평가하기에 더 적합한 지표입니다.<p>\n",
    "F1 스코어는 0과 1 사이의 값을 가지며, 1에 가까울수록 모델의 성능이 우수합니다.<p>\n",
    "\n",
    "<img src = 'https://assets-global.website-files.com/5d7b77b063a9066d83e1209c/639c3d2a22f93657640ef19f_f1-score-eqn.webp' width = '500'>"
   ]
  },
  {
   "attachments": {},
   "cell_type": "markdown",
   "metadata": {},
   "source": [
    "-----"
   ]
  },
  {
   "attachments": {},
   "cell_type": "markdown",
   "metadata": {},
   "source": [
    "### ROC와 AUC\n",
    "\n",
    "#### ROC 곡선 (Receiver Operating Characteristic curve)\n",
    "이진 분류 모델의 성능을 시각화하는 도구입니다. 임계값을 조정하여 모델의 예측 결과를 양성 또는 음성으로 분류할 때, <b>재현율 (Recall)과 거짓 양성 비율 (False Positive Rate) 사이의 관계</b>를 나타냅니다.<p>\n",
    "ROC 곡선은 재현율을 y축에, 거짓 양성 비율을 x축에 그려서 표현됩니다. 모델의 예측 결과가 이진 분류 문제에서 어떻게 변화하는지를 보여줍니다.\n",
    "<br>\n",
    "\n",
    "#### AUC (Area Under the Curve)는 ROC 곡선 아래의 면적을 나타내는 값입니다. \n",
    "ROC 곡선의 모든 점에서 면적을 계산하며, AUC 값은 0과 1 사이의 값을 가집니다. AUC가 1에 가까울수록 모델의 성능이 우수합니다.<p>\n",
    "AUC 값은 모델의 분류 성능을 정량화하고 비교하는 데에 사용됩니다.<p> \n",
    "AUC가 높을수록 모델이 양성 및 음성 클래스를 잘 구분하는 능력이 높다고 해석할 수 있습니다.<p>\n",
    "따라서, AUC는 모델 선택과 성능 평가에 유용한 지표입니다."
   ]
  },
  {
   "attachments": {},
   "cell_type": "markdown",
   "metadata": {},
   "source": [
    "<img src ='https://1394217531-files.gitbook.io/~/files/v0/b/gitbook-legacy-files/o/assets%2F-LvBP1svpACTB1R1x_U4%2F-LvGspxW3Zko2589SZEN%2F-LvHDdtKiSfM4WORukWK%2Fimage.png?alt=media&token=37e218e6-2fe1-4e71-8a69-bdf47bf117e0'>"
   ]
  },
  {
   "attachments": {},
   "cell_type": "markdown",
   "metadata": {},
   "source": [
    "-----\n",
    "\n",
    "#### ROC 커브 그리기"
   ]
  },
  {
   "cell_type": "code",
   "execution_count": 4,
   "metadata": {},
   "outputs": [],
   "source": [
    "import pandas as pd\n",
    "\n",
    "red_wine = pd.read_csv('winequality-red.csv',sep=';')\n",
    "white_wine = pd.read_csv('winequality-white.csv',sep=';')\n",
    "red_wine['color'] = 1 #red\n",
    "white_wine['color'] = 0 #white\n",
    "\n",
    "\n",
    "wine = pd.concat([red_wine,white_wine])\n",
    "wine['taste'] = [1. if grade > 5 else 0. for grade in X['quality'] ]\n",
    "\n",
    "X = wine.drop(['taste', 'quality'], axis=1)\n",
    "y = wine['taste']\n"
   ]
  },
  {
   "cell_type": "code",
   "execution_count": 5,
   "metadata": {},
   "outputs": [
    {
     "name": "stdout",
     "output_type": "stream",
     "text": [
      "Train ACC :  0.7294593034442948\n",
      "Test ACC :  0.7161538461538461\n"
     ]
    }
   ],
   "source": [
    "from sklearn.model_selection import train_test_split\n",
    "from sklearn.tree import DecisionTreeClassifier\n",
    "from sklearn.metrics import accuracy_score\n",
    "\n",
    "X_train,X_test,y_train,y_test = train_test_split(X, y, test_size=0.2, random_state=13)\n",
    "\n",
    "wine_tree=DecisionTreeClassifier(max_depth=2, random_state=13)\n",
    "\n",
    "wine_tree.fit(X_train, y_train)\n",
    "\n",
    "y_pred_tr = wine_tree.predict(X_train)\n",
    "y_pred_test = wine_tree.predict(X_test)\n",
    "\n",
    "print('Train ACC : ',accuracy_score(y_train, y_pred_tr))\n",
    "print('Test ACC : ',accuracy_score(y_test, y_pred_test))\n"
   ]
  },
  {
   "cell_type": "code",
   "execution_count": 6,
   "metadata": {},
   "outputs": [
    {
     "name": "stdout",
     "output_type": "stream",
     "text": [
      "Accuracy :  0.7161538461538461\n",
      "Recall :  0.7314702308626975\n",
      "Precision :  0.8026666666666666\n",
      "AUC score :  0.7105988470875331\n",
      "F1 score :  0.7654164017800381\n"
     ]
    }
   ],
   "source": [
    "from sklearn.metrics import accuracy_score, precision_score\n",
    "from sklearn.metrics import recall_score, f1_score\n",
    "from sklearn.metrics import roc_auc_score, roc_curve\n",
    "\n",
    "print(\"Accuracy : \",accuracy_score(y_test,y_pred_test))\n",
    "print(\"Recall : \",recall_score(y_test,y_pred_test))\n",
    "print(\"Precision : \",precision_score(y_test,y_pred_test))\n",
    "print(\"AUC score : \",roc_auc_score(y_test,y_pred_test))\n",
    "print(\"F1 score : \",f1_score(y_test,y_pred_test))\n"
   ]
  },
  {
   "cell_type": "code",
   "execution_count": 10,
   "metadata": {},
   "outputs": [
    {
     "name": "stdout",
     "output_type": "stream",
     "text": [
      "WIndow Hangul OK\n"
     ]
    }
   ],
   "source": [
    "# %load ../set_matplotlib_hangul.py\n",
    "\n",
    "import matplotlib.pyplot as plt\n",
    "from matplotlib import font_manager, rc\n",
    "import seaborn as sns\n",
    "import platform\n",
    "\n",
    "# %matplotlib inline\n",
    "get_ipython().run_line_magic(\"matplotlib\",\"inline\")\n",
    "\n",
    "path='C:/Windows/Fonts/malgun.ttf'\n",
    "plt.rcParams['axes.unicode_minus'] = False\n",
    "\n",
    "if platform.system()==\"Darwin\": #mac\n",
    "    rc(\"font\",family='Arial Unicodes MS')\n",
    "    sns.set(font='Arial Unicodes MS', \n",
    "        rc={\"axes.unicode_minus\":False}),\n",
    "    print('MAC Hangul OK')\n",
    "elif platform.system()==\"Windows\":  #window\n",
    "    font_name=font_manager.FontProperties(fname=path).get_name()\n",
    "    rc(\"font\",family=font_name)\n",
    "    sns.set(font=font_name, \n",
    "    rc={\"axes.unicode_minus\":False})\n",
    "    print('WIndow Hangul OK')\n",
    "    \n",
    "else:\n",
    "    print('Unknown System')\n",
    "    \n"
   ]
  },
  {
   "cell_type": "code",
   "execution_count": 11,
   "metadata": {},
   "outputs": [],
   "source": [
    "pred_prob = wine_tree.predict_proba(X_test)[:,1] #1일 확률만 추출 \n",
    "fpr, tpr, thresholds = roc_curve(y_test,pred_prob) #False Positive Rate (FPR), True Positive Rate (TPR), 임계값 (thresholds)"
   ]
  },
  {
   "cell_type": "code",
   "execution_count": 12,
   "metadata": {},
   "outputs": [
    {
     "data": {
      "text/plain": [
       "array([0.        , 0.14884696, 0.25366876, 0.31027254, 1.        ])"
      ]
     },
     "execution_count": 12,
     "metadata": {},
     "output_type": "execute_result"
    }
   ],
   "source": [
    "fpr"
   ]
  },
  {
   "cell_type": "code",
   "execution_count": 13,
   "metadata": {},
   "outputs": [
    {
     "data": {
      "text/plain": [
       "array([0.        , 0.45078979, 0.65492102, 0.73147023, 1.        ])"
      ]
     },
     "execution_count": 13,
     "metadata": {},
     "output_type": "execute_result"
    }
   ],
   "source": [
    "tpr"
   ]
  },
  {
   "cell_type": "code",
   "execution_count": 14,
   "metadata": {},
   "outputs": [
    {
     "data": {
      "text/plain": [
       "array([1.87802198, 0.87802198, 0.72692794, 0.67447307, 0.38397406])"
      ]
     },
     "execution_count": 14,
     "metadata": {},
     "output_type": "execute_result"
    }
   ],
   "source": [
    "thresholds"
   ]
  },
  {
   "cell_type": "code",
   "execution_count": 21,
   "metadata": {},
   "outputs": [
    {
     "data": {
      "image/png": "[encoded data removed]",
      "text/plain": [
       "<Figure size 1000x800 with 1 Axes>"
      ]
     },
     "metadata": {},
     "output_type": "display_data"
    }
   ],
   "source": [
    "plt.figure(figsize=(10,8))\n",
    "plt.plot([0,1],[0,1],'r',ls='--')\n",
    "plt.plot(fpr, tpr)\n",
    "plt.grid(True)\n",
    "plt.show()"
   ]
  },
  {
   "cell_type": "code",
   "execution_count": null,
   "metadata": {},
   "outputs": [],
   "source": []
  }
 ],
 "metadata": {
  "kernelspec": {
   "display_name": "ds_study",
   "language": "python",
   "name": "python3"
  },
  "language_info": {
   "codemirror_mode": {
    "name": "ipython",
    "version": 3
   },
   "file_extension": ".py",
   "mimetype": "text/x-python",
   "name": "python",
   "nbconvert_exporter": "python",
   "pygments_lexer": "ipython3",
   "version": "3.8.16"
  },
  "orig_nbformat": 4
 },
 "nbformat": 4,
 "nbformat_minor": 2
}
