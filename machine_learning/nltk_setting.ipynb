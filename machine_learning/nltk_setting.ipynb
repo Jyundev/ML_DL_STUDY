{
 "cells": [
  {
   "cell_type": "code",
   "execution_count": 2,
   "metadata": {},
   "outputs": [
    {
     "name": "stdout",
     "output_type": "stream",
     "text": [
      "^C\n",
      "Requirement already satisfied: pip in c:\\users\\yun\\miniconda3\\envs\\ds_study\\lib\\site-packages (23.0.1)\n",
      "Collecting pip\n",
      "  Using cached pip-23.1.2-py3-none-any.whl (2.1 MB)\n"
     ]
    },
    {
     "name": "stderr",
     "output_type": "stream",
     "text": [
      "ERROR: To modify pip, please run the following command:\n",
      "C:\\Users\\YUN\\miniconda3\\envs\\ds_study\\python.exe -m pip install --upgrade pip\n"
     ]
    },
    {
     "name": "stdout",
     "output_type": "stream",
     "text": [
      "Requirement already satisfied: konlpy in c:\\users\\yun\\miniconda3\\envs\\ds_study\\lib\\site-packages (0.6.0)\n",
      "Requirement already satisfied: JPype1>=0.7.0 in c:\\users\\yun\\miniconda3\\envs\\ds_study\\lib\\site-packages (from konlpy) (1.4.1)\n",
      "Requirement already satisfied: lxml>=4.1.0 in c:\\users\\yun\\miniconda3\\envs\\ds_study\\lib\\site-packages (from konlpy) (4.9.2)\n",
      "Requirement already satisfied: numpy>=1.6 in c:\\users\\yun\\miniconda3\\envs\\ds_study\\lib\\site-packages (from konlpy) (1.24.3)\n",
      "Requirement already satisfied: packaging in c:\\users\\yun\\miniconda3\\envs\\ds_study\\lib\\site-packages (from JPype1>=0.7.0->konlpy) (23.0)\n"
     ]
    },
    {
     "name": "stderr",
     "output_type": "stream",
     "text": [
      "\n",
      "PackageNotInstalledError: Package is not installed in prefix.\n",
      "  prefix: C:\\Users\\YUN\\miniconda3\\envs\\ds_study\n",
      "  package name: conde\n",
      "\n",
      "\n"
     ]
    },
    {
     "name": "stdout",
     "output_type": "stream",
     "text": [
      "Requirement already satisfied: tweepy==3.10.0 in c:\\users\\yun\\miniconda3\\envs\\ds_study\\lib\\site-packages (3.10.0)\n",
      "Requirement already satisfied: six>=1.10.0 in c:\\users\\yun\\miniconda3\\envs\\ds_study\\lib\\site-packages (from tweepy==3.10.0) (1.16.0)\n",
      "Requirement already satisfied: requests[socks]>=2.11.1 in c:\\users\\yun\\miniconda3\\envs\\ds_study\\lib\\site-packages (from tweepy==3.10.0) (2.29.0)\n",
      "Requirement already satisfied: requests-oauthlib>=0.7.0 in c:\\users\\yun\\miniconda3\\envs\\ds_study\\lib\\site-packages (from tweepy==3.10.0) (1.3.1)\n",
      "Requirement already satisfied: oauthlib>=3.0.0 in c:\\users\\yun\\miniconda3\\envs\\ds_study\\lib\\site-packages (from requests-oauthlib>=0.7.0->tweepy==3.10.0) (3.2.2)\n",
      "Requirement already satisfied: idna<4,>=2.5 in c:\\users\\yun\\miniconda3\\envs\\ds_study\\lib\\site-packages (from requests[socks]>=2.11.1->tweepy==3.10.0) (3.4)\n",
      "Requirement already satisfied: charset-normalizer<4,>=2 in c:\\users\\yun\\miniconda3\\envs\\ds_study\\lib\\site-packages (from requests[socks]>=2.11.1->tweepy==3.10.0) (2.0.4)\n",
      "Requirement already satisfied: certifi>=2017.4.17 in c:\\users\\yun\\miniconda3\\envs\\ds_study\\lib\\site-packages (from requests[socks]>=2.11.1->tweepy==3.10.0) (2023.5.7)\n",
      "Requirement already satisfied: urllib3<1.27,>=1.21.1 in c:\\users\\yun\\miniconda3\\envs\\ds_study\\lib\\site-packages (from requests[socks]>=2.11.1->tweepy==3.10.0) (1.26.15)\n",
      "Requirement already satisfied: PySocks!=1.5.7,>=1.5.6 in c:\\users\\yun\\miniconda3\\envs\\ds_study\\lib\\site-packages (from requests[socks]>=2.11.1->tweepy==3.10.0) (1.7.1)\n",
      "Collecting package metadata (current_repodata.json): ...working... done\n",
      "Solving environment: ...working... unsuccessful initial attempt using frozen solve. Retrying with flexible solve.\n",
      "Collecting package metadata (repodata.json): ...working... done\n",
      "Solving environment: ...working... unsuccessful initial attempt using frozen solve. Retrying with flexible solve.\n"
     ]
    },
    {
     "name": "stderr",
     "output_type": "stream",
     "text": [
      "\n",
      "PackagesNotFoundError: The following packages are not available from current channels:\n",
      "\n",
      "  - jpypel==1.0.2\n",
      "\n",
      "Current channels:\n",
      "\n",
      "  - https://conda.anaconda.org/conda-forge/win-64\n",
      "  - https://conda.anaconda.org/conda-forge/noarch\n",
      "  - https://repo.anaconda.com/pkgs/main/win-64\n",
      "  - https://repo.anaconda.com/pkgs/main/noarch\n",
      "  - https://repo.anaconda.com/pkgs/r/win-64\n",
      "  - https://repo.anaconda.com/pkgs/r/noarch\n",
      "  - https://repo.anaconda.com/pkgs/msys2/win-64\n",
      "  - https://repo.anaconda.com/pkgs/msys2/noarch\n",
      "\n",
      "To search for alternate channels that may provide the conda package you're\n",
      "looking for, navigate to\n",
      "\n",
      "    https://anaconda.org\n",
      "\n",
      "and use the search bar at the top of the page.\n",
      "\n",
      "\n"
     ]
    },
    {
     "name": "stdout",
     "output_type": "stream",
     "text": [
      "Collecting package metadata (current_repodata.json): ...working... done\n",
      "Solving environment: ...working... unsuccessful initial attempt using frozen solve. Retrying with flexible solve.\n",
      "Collecting package metadata (repodata.json): ...working... done\n",
      "Solving environment: ...working... unsuccessful initial attempt using frozen solve. Retrying with flexible solve.\n"
     ]
    },
    {
     "name": "stderr",
     "output_type": "stream",
     "text": [
      "\n",
      "PackagesNotFoundError: The following packages are not available from current channels:\n",
      "\n",
      "  - wordcloud\n",
      "  - conda-forge\n",
      "  - c\n",
      "\n",
      "Current channels:\n",
      "\n",
      "  - https://repo.anaconda.com/pkgs/main/win-64\n",
      "  - https://repo.anaconda.com/pkgs/main/noarch\n",
      "  - https://repo.anaconda.com/pkgs/r/win-64\n",
      "  - https://repo.anaconda.com/pkgs/r/noarch\n",
      "  - https://repo.anaconda.com/pkgs/msys2/win-64\n",
      "  - https://repo.anaconda.com/pkgs/msys2/noarch\n",
      "\n",
      "To search for alternate channels that may provide the conda package you're\n",
      "looking for, navigate to\n",
      "\n",
      "    https://anaconda.org\n",
      "\n",
      "and use the search bar at the top of the page.\n",
      "\n",
      "\n"
     ]
    },
    {
     "name": "stdout",
     "output_type": "stream",
     "text": [
      "Collecting package metadata (current_repodata.json): ...working... done\n",
      "Solving environment: ...working... done\n",
      "\n",
      "# All requested packages already installed.\n",
      "\n"
     ]
    }
   ],
   "source": [
    "!conda update conde\n",
    "!pip install --upgrade pip\n",
    "!pip install konlpy\n",
    "!pip install tweepy==3.10.0\n",
    "!conda install -y -c conda-forge jpypel==1.0.2\n",
    "!conda install -y -c conda-forge wordcloud\n",
    "!conda install -y nltk "
   ]
  },
  {
   "cell_type": "code",
   "execution_count": 3,
   "metadata": {},
   "outputs": [],
   "source": [
    "import nltk"
   ]
  },
  {
   "cell_type": "code",
   "execution_count": 5,
   "metadata": {},
   "outputs": [
    {
     "name": "stdout",
     "output_type": "stream",
     "text": [
      "showing info https://raw.githubusercontent.com/nltk/nltk_data/gh-pages/index.xml\n"
     ]
    },
    {
     "data": {
      "text/plain": [
       "True"
      ]
     },
     "execution_count": 5,
     "metadata": {},
     "output_type": "execute_result"
    }
   ],
   "source": [
    "nltk.download()"
   ]
  },
  {
   "cell_type": "code",
   "execution_count": 6,
   "metadata": {},
   "outputs": [],
   "source": [
    "from konlpy.tag import Okt"
   ]
  },
  {
   "cell_type": "code",
   "execution_count": 2,
   "metadata": {},
   "outputs": [
    {
     "ename": "NameError",
     "evalue": "name 'Okt' is not defined",
     "output_type": "error",
     "traceback": [
      "\u001b[1;31m---------------------------------------------------------------------------\u001b[0m",
      "\u001b[1;31mNameError\u001b[0m                                 Traceback (most recent call last)",
      "Cell \u001b[1;32mIn[2], line 1\u001b[0m\n\u001b[1;32m----> 1\u001b[0m t \u001b[39m=\u001b[39m Okt()\n",
      "\u001b[1;31mNameError\u001b[0m: name 'Okt' is not defined"
     ]
    }
   ],
   "source": [
    "t = Okt()"
   ]
  },
  {
   "cell_type": "code",
   "execution_count": null,
   "metadata": {},
   "outputs": [],
   "source": []
  }
 ],
 "metadata": {
  "kernelspec": {
   "display_name": "ds_study",
   "language": "python",
   "name": "python3"
  },
  "language_info": {
   "codemirror_mode": {
    "name": "ipython",
    "version": 3
   },
   "file_extension": ".py",
   "mimetype": "text/x-python",
   "name": "python",
   "nbconvert_exporter": "python",
   "pygments_lexer": "ipython3",
   "version": "3.8.16"
  },
  "orig_nbformat": 4
 },
 "nbformat": 4,
 "nbformat_minor": 2
}
