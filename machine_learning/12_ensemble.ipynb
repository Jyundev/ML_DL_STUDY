{
 "cells": [
  {
   "attachments": {},
   "cell_type": "markdown",
   "metadata": {},
   "source": [
    "### 앙상블 기법 : Ensemble Learning \n",
    "\n",
    "여러 개의 분류기를 생성하고 그 예측을 결합하여 최종 예측을 기대하는 방법 \n",
    "\n",
    "<img src = 'https://assets-global.website-files.com/5d7b77b063a9066d83e1209c/61f7bbd4e90cce440b88ea32_ensemble-learning.png' width =700>\n",
    "\n",
    "_Image by <a href= 'https://www.v7labs.com/blog/ensemble-learning'>The Complete Guide to Ensemble Learning</a>_\n",
    "\n",
    "\n",
    "#### Voting VS Bagging\n",
    "\n",
    "<b>Voting은 여러 개의 다른 기본 모델들이 투표를 통해 최종 예측 결과를 결정하는 방식입니다.</b> <p>\n",
    "주어진 입력에 대해 각 개별 모델은 예측을 수행하고, 이 예측들을 종합하여 다수결이나 평균을 통해 최종 예측을 만듭니다.<p> \n",
    "Voting은 주로 분류 문제에서 사용되며, 다양한 유형의 기본 모델 (예: 로지스틱 회귀, 결정 트리, K-NN 등)을 조합하여 다수결 투표 또는 가중 평균을 통해 예측 결과를 결정합니다.\n",
    "\n",
    "<br>\n",
    "\n",
    "<b>Bagging은 Bootstrap Aggregating의 약자로, 임의의 부분집합 데이터를 생성하여 각 부분집합에 대해 독립적으로 모델을 학습시키는 방식입니다.</b><p> \n",
    "다수의 모델을 병렬로 학습시키고, 각 모델의 예측 결과를 평균화하여 최종 예측을 만듭니다.<p> \n",
    "Bagging은 주로 앙상블된 모델들이 각각 독립적으로 예측을 수행하므로, 분산을 줄이고 모델의 안정성을 향상시키는 데에 사용됩니다. 대표적인 Bagging 알고리즘으로는 Random Forest가 있습니다.\n",
    "\n",
    "<br>\n",
    "\n",
    "<img src = 'https://miro.medium.com/v2/resize:fit:828/format:webp/1*E_O_FSHK6SHL6LTNeYaDXw.png'>\n",
    "\n",
    "_Image by <a href= 'https://medium.com/@chyun55555/ensemble-learning-voting-and-bagging-with-python-40de683b8ff0'>Ensemble Learning — Voting and Bagging with Python</a>_\n"
   ]
  },
  {
   "attachments": {},
   "cell_type": "markdown",
   "metadata": {},
   "source": [
    "#### Hard voting VS soft voting\n",
    "\n",
    "**Hard Voting**은 다수결 원칙을 기반으로 예측 결과를 결정하는 방식입니다. <p>\n",
    "여러 개의 개별 모델이 예측을 수행한 후, 각 모델의 예측 결과를 투표로 종합하여 가장 많은 투표를 받은 클래스를 최종 예측 결과로 선택합니다. <p>\n",
    "이때, 각 모델의 예측 결과는 동등한 가중치를 갖습니다.<p>\n",
    "<p>\n",
    "\n",
    "**Soft Voting**은 다수의 개별 모델들이 예측한 확률값을 종합하여 최종 예측 결과를 결정하는 방식입니다. <p>\n",
    "개별 모델들은 예측 결과뿐만 아니라 예측한 클래스에 대한 확률값도 제공합니다. <p>\n",
    "Soft Voting에서는 각 모델의 예측 확률값을 평균하여 가장 높은 평균 확률을 가진 클래스를 최종 예측 결과로 선택합니다.<p>\n",
    "\n",
    "<img src = 'https://www.researchgate.net/publication/362311832/figure/fig3/AS:11431281078760466@1660240577836/The-figure-shows-with-an-example-how-both-hard-and-soft-voting-work-The-ensemble.ppm'>\n",
    "\n",
    "_Image by <a href= 'https://www.researchgate.net/figure/The-figure-shows-with-an-example-how-both-hard-and-soft-voting-work-The-ensemble_fig3_362311832'>A Soft-Voting Ensemble Classifier for Detecting Patients Affected by COVID-19 - Scientific Figure on ResearchGate.</a>_\n"
   ]
  },
  {
   "attachments": {},
   "cell_type": "markdown",
   "metadata": {},
   "source": [
    "#### Random Forest\n",
    "\n",
    "Random Forest(랜덤 포레스트)는 앙상블 학습 방법 중 하나로, 의사 결정 트리(Decision Tree)를 기반으로한 모델입니다.<p> \n",
    "랜덤 포레스트는 여러 개의 의사 결정 트리를 생성하고, 이들의 예측 결과를 종합하여 보다 정확하고 안정적인 예측을 수행하는 데에 사용됩니다.\n",
    "\n",
    "<br>\n",
    "\n",
    "<img src ='https://www.researchgate.net/publication/357828695/figure/fig2/AS:1114676138127392@1642770909745/Random-forest-prediction-scheme.png'>\n",
    "\n",
    "_Image by <a href= 'https://www.researchgate.net/figure/Random-forest-prediction-scheme_fig2_357828695/actions#reference'>Dynamic Packet Duplication for Industrial URLLC</a>_\n"
   ]
  },
  {
   "attachments": {},
   "cell_type": "markdown",
   "metadata": {},
   "source": [
    "### HAR 데이터 , Human Activity Recognition"
   ]
  },
  {
   "cell_type": "code",
   "execution_count": null,
   "metadata": {
    "vscode": {
     "languageId": "plaintext"
    }
   },
   "outputs": [],
   "source": []
  },
  {
   "cell_type": "code",
   "execution_count": null,
   "metadata": {
    "vscode": {
     "languageId": "plaintext"
    }
   },
   "outputs": [],
   "source": []
  },
  {
   "cell_type": "code",
   "execution_count": null,
   "metadata": {
    "vscode": {
     "languageId": "plaintext"
    }
   },
   "outputs": [],
   "source": []
  }
 ],
 "metadata": {
  "language_info": {
   "name": "python"
  },
  "orig_nbformat": 4
 },
 "nbformat": 4,
 "nbformat_minor": 2
}
